{
  "nbformat": 4,
  "nbformat_minor": 0,
  "metadata": {
    "colab": {
      "provenance": [],
      "include_colab_link": true
    },
    "kernelspec": {
      "name": "python3",
      "display_name": "Python 3"
    },
    "language_info": {
      "name": "python"
    }
  },
  "cells": [
    {
      "cell_type": "markdown",
      "metadata": {
        "id": "view-in-github",
        "colab_type": "text"
      },
      "source": [
        "<a href=\"https://colab.research.google.com/github/luanapetrolli/luanapetrolli/blob/main/Salvando_e_Carregando_o_Modelo.ipynb\" target=\"_parent\"><img src=\"https://colab.research.google.com/assets/colab-badge.svg\" alt=\"Open In Colab\"/></a>"
      ]
    },
    {
      "cell_type": "markdown",
      "source": [
        "#Importanto Pandas"
      ],
      "metadata": {
        "id": "1dQdHZoybOrU"
      }
    },
    {
      "cell_type": "code",
      "execution_count": null,
      "metadata": {
        "id": "zhh5Kz-ma-yL"
      },
      "outputs": [],
      "source": [
        "import pandas as pd"
      ]
    },
    {
      "cell_type": "code",
      "source": [
        "#carregando o dataset\n",
        "df = pd.read_csv(\"/content/drive/MyDrive/projeto-ia-datasets/house-prices-train.csv\")"
      ],
      "metadata": {
        "id": "fmYYSy1nbJ2k"
      },
      "execution_count": null,
      "outputs": []
    },
    {
      "cell_type": "markdown",
      "source": [
        "#Mapeamento das features"
      ],
      "metadata": {
        "id": "EeVedYCAbWXD"
      }
    },
    {
      "cell_type": "code",
      "source": [
        "cat_vars = df.select_dtypes(include=\"object\").columns.to_list()\n",
        "\n",
        "target = \"SalePrice\"\n",
        "\n",
        "num_vars = [col for col in df.columns if col not in cat_vars+ [\"Id\",target]]\n",
        "\n",
        "features = num_vars+ cat_vars"
      ],
      "metadata": {
        "id": "n-qtC3RjbLJN"
      },
      "execution_count": null,
      "outputs": []
    },
    {
      "cell_type": "markdown",
      "source": [
        "#Treino e Teste"
      ],
      "metadata": {
        "id": "qRl94wD-bbRr"
      }
    },
    {
      "cell_type": "code",
      "source": [
        "from sklearn.model_selection import train_test_split\n",
        "\n",
        "X = df[features]\n",
        "y= df[target]\n",
        "\n",
        "X_train, X_teste, y_train, y_teste = train_test_split(X,y, train_size=0.8 , random_state=42)"
      ],
      "metadata": {
        "id": "-HEhZnQLbZZY"
      },
      "execution_count": null,
      "outputs": []
    },
    {
      "cell_type": "markdown",
      "source": [
        "#Importando o Modelo e a Feature Engine"
      ],
      "metadata": {
        "id": "e4ybL3dxbq-j"
      }
    },
    {
      "cell_type": "code",
      "source": [
        "!pip install feature-engine lightgbm"
      ],
      "metadata": {
        "colab": {
          "base_uri": "https://localhost:8080/"
        },
        "id": "e_RSuCyfbf2E",
        "outputId": "ca95da07-dafc-440d-effb-d25ac1a4508d"
      },
      "execution_count": null,
      "outputs": [
        {
          "output_type": "stream",
          "name": "stdout",
          "text": [
            "Collecting feature-engine\n",
            "  Downloading feature_engine-1.6.2-py2.py3-none-any.whl (328 kB)\n",
            "\u001b[2K     \u001b[90m━━━━━━━━━━━━━━━━━━━━━━━━━━━━━━━━━━━━━━━━\u001b[0m \u001b[32m328.9/328.9 kB\u001b[0m \u001b[31m5.6 MB/s\u001b[0m eta \u001b[36m0:00:00\u001b[0m\n",
            "\u001b[?25hRequirement already satisfied: lightgbm in /usr/local/lib/python3.10/dist-packages (4.0.0)\n",
            "Requirement already satisfied: numpy>=1.18.2 in /usr/local/lib/python3.10/dist-packages (from feature-engine) (1.23.5)\n",
            "Requirement already satisfied: pandas>=1.0.3 in /usr/local/lib/python3.10/dist-packages (from feature-engine) (1.5.3)\n",
            "Requirement already satisfied: scikit-learn>=1.0.0 in /usr/local/lib/python3.10/dist-packages (from feature-engine) (1.2.2)\n",
            "Requirement already satisfied: scipy>=1.4.1 in /usr/local/lib/python3.10/dist-packages (from feature-engine) (1.11.3)\n",
            "Requirement already satisfied: statsmodels>=0.11.1 in /usr/local/lib/python3.10/dist-packages (from feature-engine) (0.14.0)\n",
            "Requirement already satisfied: python-dateutil>=2.8.1 in /usr/local/lib/python3.10/dist-packages (from pandas>=1.0.3->feature-engine) (2.8.2)\n",
            "Requirement already satisfied: pytz>=2020.1 in /usr/local/lib/python3.10/dist-packages (from pandas>=1.0.3->feature-engine) (2023.3.post1)\n",
            "Requirement already satisfied: joblib>=1.1.1 in /usr/local/lib/python3.10/dist-packages (from scikit-learn>=1.0.0->feature-engine) (1.3.2)\n",
            "Requirement already satisfied: threadpoolctl>=2.0.0 in /usr/local/lib/python3.10/dist-packages (from scikit-learn>=1.0.0->feature-engine) (3.2.0)\n",
            "Requirement already satisfied: patsy>=0.5.2 in /usr/local/lib/python3.10/dist-packages (from statsmodels>=0.11.1->feature-engine) (0.5.3)\n",
            "Requirement already satisfied: packaging>=21.3 in /usr/local/lib/python3.10/dist-packages (from statsmodels>=0.11.1->feature-engine) (23.2)\n",
            "Requirement already satisfied: six in /usr/local/lib/python3.10/dist-packages (from patsy>=0.5.2->statsmodels>=0.11.1->feature-engine) (1.16.0)\n",
            "Installing collected packages: feature-engine\n",
            "Successfully installed feature-engine-1.6.2\n"
          ]
        }
      ]
    },
    {
      "cell_type": "code",
      "source": [
        "from feature_engine.imputation import ArbitraryNumberImputer, CategoricalImputer\n",
        "from feature_engine.encoding import OneHotEncoder\n",
        "from sklearn.pipeline import Pipeline\n",
        "\n",
        "from lightgbm import LGBMRegressor"
      ],
      "metadata": {
        "id": "eVY2Rkx6bwjM"
      },
      "execution_count": null,
      "outputs": []
    },
    {
      "cell_type": "markdown",
      "source": [
        "#Importando as Métricas"
      ],
      "metadata": {
        "id": "3eK53EmHb_q9"
      }
    },
    {
      "cell_type": "code",
      "source": [
        "from sklearn.metrics import r2_score\n",
        "from sklearn.metrics import mean_absolute_error\n",
        "from sklearn.metrics import mean_squared_error\n",
        "from sklearn.metrics import mean_squared_log_error\n",
        "from sklearn.metrics import max_error\n",
        "from sklearn.metrics import median_absolute_error\n",
        "from  sklearn.metrics import mean_absolute_percentage_error"
      ],
      "metadata": {
        "id": "_FPhoTpGb7KS"
      },
      "execution_count": null,
      "outputs": []
    },
    {
      "cell_type": "markdown",
      "source": [
        "#Montando o Pipeline e Treinando"
      ],
      "metadata": {
        "id": "e4ozUR7LcGvb"
      }
    },
    {
      "cell_type": "code",
      "source": [
        "data_pipe_linear_LGBMRegressor =Pipeline(steps=[\n",
        "    (\"numeric_imputer\", ArbitraryNumberImputer(variables=num_vars, arbitrary_number=-999)),\n",
        "    (\"categoric_imputer\",CategoricalImputer(fill_value=\"Missing\",variables=cat_vars)),\n",
        "    (\"ohe\",OneHotEncoder(variables=cat_vars)),\n",
        "    (\"LGBMRegressor\",LGBMRegressor(random_state=42))\n",
        "])\n",
        "\n",
        "#treiando\n",
        "data_pipe_linear_LGBMRegressor.fit(X_train,y_train)\n",
        "\n",
        "#prevendo\n",
        "y_previsto= data_pipe_linear_LGBMRegressor.predict(X_teste)\n",
        "\n",
        "#resultados\n",
        "print(\"--------------------------------------\")\n",
        "print(\"LGBMRegressor\")\n",
        "r2_noteste = r2_score(y_teste, y_previsto)\n",
        "print(f\"R2 no traino {r2_noteste}\")\n",
        "mae_noteste = mean_absolute_error(y_teste, y_previsto)\n",
        "print(f\"MAE no teste {mae_noteste}\")\n",
        "mse_noteste = mean_squared_error(y_teste, y_previsto)\n",
        "print(f\"MSE no teste {mse_noteste}\")\n",
        "rmse_noteste = mean_squared_error(y_teste, y_previsto, squared=False)\n",
        "print(f\"RMSE no teste {rmse_noteste}\")\n",
        "max_error_noteste = max_error(y_teste, y_previsto)\n",
        "print(f\"max_erro no teste {max_error_noteste}\")\n",
        "medae_error_noteste = median_absolute_error(y_teste, y_previsto)\n",
        "print(f\"medae no teste {medae_error_noteste}\")\n",
        "mape_error_noteste = mean_absolute_percentage_error(y_teste, y_previsto)\n",
        "print(f\"mape no teste {mape_error_noteste}\")"
      ],
      "metadata": {
        "colab": {
          "base_uri": "https://localhost:8080/"
        },
        "id": "anMqd141cCEq",
        "outputId": "57a4c0cd-856a-4e6b-9acd-0748ae9decf3"
      },
      "execution_count": null,
      "outputs": [
        {
          "output_type": "stream",
          "name": "stdout",
          "text": [
            "[LightGBM] [Warning] Found whitespace in feature_names, replace with underlines\n",
            "[LightGBM] [Warning] Auto-choosing row-wise multi-threading, the overhead of testing was 0.001107 seconds.\n",
            "You can set `force_row_wise=true` to remove the overhead.\n",
            "And if memory is not enough, you can set `force_col_wise=true`.\n",
            "[LightGBM] [Info] Total Bins 3221\n",
            "[LightGBM] [Info] Number of data points in the train set: 1168, number of used features: 193\n",
            "[LightGBM] [Info] Start training from score 181441.541952\n",
            "--------------------------------------\n",
            "LGBMRegressor\n",
            "R2 no traino 0.8893698106000011\n",
            "MAE no teste 16752.873857558716\n",
            "MSE no teste 848569641.0608867\n",
            "RMSE no teste 29130.218692294206\n",
            "max_erro no teste 234554.32028490375\n",
            "medae no teste 9622.275100271538\n",
            "mape no teste 0.10005989678712546\n"
          ]
        }
      ]
    },
    {
      "cell_type": "markdown",
      "source": [
        "#Salvando o modelo utilizando Pickle e Joblib\n",
        "\n",
        "leitura complemetar: https://acervolima.com/salvando-um-modelo-de-aprendizado-de-maquina/"
      ],
      "metadata": {
        "id": "IRMAZlx4cWxD"
      }
    },
    {
      "cell_type": "markdown",
      "source": [
        "No aprendizado de máquina, ao trabalhar com a biblioteca scikit learn , precisamos salvar os modelos treinados em um arquivo e restaurá-los para reutilizá-lo para comparar o modelo com outros modelos, para testar o modelo em um novo dado. O salvamento dos dados é chamado de serialização , enquanto a restauração dos dados é chamada de desserialização .\n",
        "Além disso, lidamos com diferentes tipos e tamanhos de dados. Alguns conjuntos de dados são facilmente treinados, ou seja, levam menos tempo para treinar, mas os conjuntos de dados cujo tamanho é grande (mais de 1 GB) podem levar muito tempo para treinar em uma máquina local, mesmo com GPU. Quando precisarmos dos mesmos dados treinados em algum projeto diferente ou posteriormente em algum momento, para evitar o desperdício de tempo de treinamento, armazene o modelo treinado para que possa ser usado a qualquer momento no futuro.\n",
        "Existem duas maneiras de salvar um modelo no scikit learn: Joblib e Pickle."
      ],
      "metadata": {
        "id": "RozrmxLvcd0c"
      }
    },
    {
      "cell_type": "markdown",
      "source": [
        "#Pickle String\n",
        "o módulo pickle implementa um algoritmo fundamental, mas poderoso, para serializar e desserializar uma estrutura de objeto Python.\n",
        "     \n",
        "O modelo Pickle fornece as seguintes funções:\n",
        "\n",
        "- pickle.dump para serializar uma hierarquia de objetos, você simplesmente usa dump().\n",
        "\n",
        "- pickle.load para desserializar um fluxo de dados, você chama a função carrega()."
      ],
      "metadata": {
        "id": "P5aMFKKOclDj"
      }
    },
    {
      "cell_type": "code",
      "source": [
        "#importando a biblioteca\n",
        "import pickle\n",
        "\n",
        "#Salvar o modelo treinado como uma string em formato pickle.\n",
        "saved_model = pickle.dumps(data_pipe_linear_LGBMRegressor)\n",
        "\n",
        "# Defina o caminho do arquivo onde você deseja salvar o modelo.\n",
        "model_path = \"/content/drive/MyDrive/model.pkl\"\n",
        "\n",
        "# Escreva o modelo serializado no local de arquivo especificado.\n",
        "with open(model_path, \"wb\") as file:\n",
        "    file.write(saved_model)"
      ],
      "metadata": {
        "id": "EzPzVpY1cMUx"
      },
      "execution_count": null,
      "outputs": []
    },
    {
      "cell_type": "code",
      "source": [
        "# Define o caminho do arquivo contendo o modelo\n",
        "model_path = \"/content/drive/MyDrive/model.pkl\"\n",
        "\n",
        "# Carrega o modelo a partir do arquivo\n",
        "with open(model_path, \"rb\") as file:\n",
        "    loaded_model = pickle.load(file)\n",
        "\n",
        "# Use o modelo carregado em formato pickle para fazer previsões.\n",
        "loaded_model.predict(X_teste)"
      ],
      "metadata": {
        "colab": {
          "base_uri": "https://localhost:8080/"
        },
        "id": "U_NZSqfDcv1O",
        "outputId": "2f71c3c4-f0ed-4e56-8b1b-f4016a3f39c1"
      },
      "execution_count": null,
      "outputs": [
        {
          "output_type": "execute_result",
          "data": {
            "text/plain": [
              "array([145485.60717921, 312602.055066  , 110022.00247526, 159969.41493332,\n",
              "       313880.38905875,  79552.66858545, 236131.91780394, 149779.28043869,\n",
              "        77235.80685494, 135095.91132809, 143800.35902572, 121835.25269376,\n",
              "       115362.62424022, 195750.94518798, 178634.86874112, 129730.62507722,\n",
              "       192911.56084663, 131657.45654703, 120820.37087536, 204017.77278542,\n",
              "       138338.9114947 , 225369.63892082, 171268.62434023, 129775.13104949,\n",
              "       196638.99285044, 171349.93326745, 199272.04783511,  97943.32721604,\n",
              "       175722.41999571, 208295.25799675, 130129.51288706, 249081.95544949,\n",
              "       192519.84994714, 118052.59576667, 259595.70902645, 150151.35384487,\n",
              "       118264.44369995, 209968.20236273, 333180.50781153, 106279.34445848,\n",
              "       129130.50704429, 236915.99730642, 121245.73799971, 396585.63553583,\n",
              "       127844.04225973, 126381.94538548, 117616.87247532, 122589.06581806,\n",
              "       408127.7881369 , 142933.05040505, 119082.89270624, 191035.39925391,\n",
              "       120004.75943429, 375271.30564379, 146811.99893701, 228128.55517858,\n",
              "       198690.96447719, 165819.04853691, 136619.59131891, 105674.4979093 ,\n",
              "        73046.43100541, 159767.80761551, 318132.18342167, 306838.02322447,\n",
              "       277269.95220111, 235353.94999184, 112111.61093779, 330254.0934147 ,\n",
              "       114355.70720533, 162234.67608409, 116137.59151623, 131428.43209922,\n",
              "       118673.24712946,  86942.57806373, 447256.86097403, 180275.52126704,\n",
              "       314990.69801439, 303396.90804095, 149656.53167018, 126007.67234147,\n",
              "       104883.68100309,  77169.40358216, 126207.32006508, 102255.227858  ,\n",
              "       163859.01833892, 133559.3872656 , 278526.81334773, 194154.02606774,\n",
              "       139404.58588327, 173075.84498498, 129489.37818235, 156314.68314128,\n",
              "       130068.44403568, 265320.77900663, 115039.89193278, 178970.51336978,\n",
              "       175264.17199122, 162045.72134824, 224258.71393697, 243781.80409666,\n",
              "       167693.68753673, 217744.14700994, 266348.40945191, 137782.29981366,\n",
              "       195152.51700398, 168649.93173361, 143447.19411465, 269325.76033756,\n",
              "       139018.70890148, 182201.58449148,  51533.92167985, 121344.07900014,\n",
              "       135521.03831981, 137599.23721455, 211459.86155878, 117308.6867401 ,\n",
              "       105367.31855596, 109252.54912771, 146824.18964919, 275706.24926462,\n",
              "       145728.62728274, 138733.19291781, 178390.86660131, 195135.44108025,\n",
              "       170708.1300749 , 140214.62406836, 235351.002517  , 117593.83291013,\n",
              "       140827.18998962, 174816.28954737, 192635.54084868, 373483.30344881,\n",
              "       193914.72413693, 139407.70788922,  75052.56435011, 330842.02852495,\n",
              "       379627.65777053, 132065.9969705 , 223745.16786125, 520445.6797151 ,\n",
              "       401849.40044137, 126442.73738257, 178032.18297042, 157221.33711518,\n",
              "       135215.38371266, 118517.83757329, 243025.66837154, 184970.71364602,\n",
              "       133296.65052906,  60400.44059322, 121523.12812663, 142064.00246712,\n",
              "       260276.95103271, 133703.09957296, 100671.51164276, 133380.26837441,\n",
              "       146740.10569185, 149160.36149534,  88969.06900972, 131038.03053274,\n",
              "       198107.48558499, 146828.7380976 , 335221.6159748 , 148809.50328835,\n",
              "       114434.86639303, 115206.83653216, 199468.61762864, 363599.12669415,\n",
              "       468931.66025028, 257535.07270971, 358849.27201649,  92429.09828734,\n",
              "       113367.99577886, 156566.99812222, 355287.34124823, 124850.55085939,\n",
              "       124751.02172377, 207500.93528939, 124977.86289988, 177018.62485856,\n",
              "       171519.27897616,  95107.07288713, 140516.56558232, 135045.20793347,\n",
              "       260623.29048725, 134820.51947844, 285348.60019185, 212611.34320392,\n",
              "       198922.64416389,  84248.71273766, 117078.73853853, 110629.58386783,\n",
              "       132809.87949948, 145063.82531151, 179151.01067224, 174339.74111201,\n",
              "       215894.3116759 ,  95931.47504752, 200837.35232087, 130661.27278862,\n",
              "       233640.37618912, 197295.27030431, 125616.1795714 , 356551.16056172,\n",
              "       189386.4916061 , 137514.96421071, 224686.927833  , 137358.55424177,\n",
              "       150193.29266592, 108256.704941  , 235598.82757398, 135300.81646642,\n",
              "       129897.23960196, 166526.45142804, 199220.31085141, 280009.01397895,\n",
              "       176197.16176662, 146825.74734545, 120050.68817088, 125784.97011158,\n",
              "       145261.63544653, 216470.59061414, 187220.20759686, 101007.54166696,\n",
              "       236319.32868718, 153352.56048437,  94949.69053883, 109563.46184673,\n",
              "       166858.73079102, 101178.41110955, 108191.79047234, 182383.08351758,\n",
              "       122046.49775152, 139510.41849063, 212325.90415983, 153406.50751801,\n",
              "       206883.19197983, 152672.7742082 , 245950.6907526 , 118937.42083986,\n",
              "       115563.10105993, 254935.42291256, 207972.74468062, 461194.64068424,\n",
              "       174646.446225  , 119566.35783869, 147299.503847  , 169196.19559368,\n",
              "       142466.36288761, 103279.64561948, 159500.43767291, 166253.76630955,\n",
              "       139426.66218726, 100084.78901789, 144054.91852916, 138251.30351243,\n",
              "       107686.34649287, 113729.36091838, 177848.33980117, 245993.17761522,\n",
              "       291467.81240472, 165845.89483703, 137253.68345749, 229464.4512383 ,\n",
              "       272457.0341732 , 193371.49922377, 174909.23861655, 140062.96488939,\n",
              "       118241.92978663, 167424.2761865 , 416999.32667485, 200618.74441078,\n",
              "       238236.68422505, 104842.19681847, 101384.70081265, 140961.79607512,\n",
              "       127497.18408588, 288839.180101  , 220521.70669407, 138859.45345639,\n",
              "       204237.29783133, 103394.05033837, 194699.63299956, 110363.341152  ,\n",
              "       330728.21630035, 176889.61575136, 227019.67128927, 112151.72221029,\n",
              "       237806.00544677, 179734.98251539, 134061.87097481, 118807.52731207])"
            ]
          },
          "metadata": {},
          "execution_count": 13
        }
      ]
    },
    {
      "cell_type": "markdown",
      "source": [
        "#Modelo em conserva como um arquivo usando joblib\n",
        "Joblib é a substituição do pickle, pois é mais eficiente em objetos que carregam arrayes grandes numpy. Essas funções também aceitam objetos semelhantes a arquivos em vez de nomes de arquivos."
      ],
      "metadata": {
        "id": "7Z6-Z3nyc2tj"
      }
    },
    {
      "cell_type": "markdown",
      "source": [
        "- joblib.dump para serializar uma hierarquia de objetos\n",
        "\n",
        "- joblib.load para desserializar um fluxo de dados"
      ],
      "metadata": {
        "id": "hG9MuGo9c5q9"
      }
    },
    {
      "cell_type": "code",
      "source": [
        "#importando a biblioteca\n",
        "import joblib\n",
        "\n",
        "#Salvar o modelo como um objeto pickle em um arquivo.\n",
        "joblib.dump(data_pipe_linear_LGBMRegressor, '/content/drive/MyDrive/filename20231021.pkl')\n",
        "\n",
        "# Carregando o modelo de um arquivo\n",
        "knn_from_joblib = joblib.load('/content/drive/MyDrive/filename20231021.pkl')\n",
        "\n",
        "# Utilizando o modelo para fazer predições\n",
        "knn_from_joblib.predict(X_teste)"
      ],
      "metadata": {
        "colab": {
          "base_uri": "https://localhost:8080/"
        },
        "id": "j3nvNcbIczWY",
        "outputId": "dadc1256-d49a-416f-8718-c672f2308f06"
      },
      "execution_count": null,
      "outputs": [
        {
          "output_type": "execute_result",
          "data": {
            "text/plain": [
              "array([145485.60717921, 312602.055066  , 110022.00247526, 159969.41493332,\n",
              "       313880.38905875,  79552.66858545, 236131.91780394, 149779.28043869,\n",
              "        77235.80685494, 135095.91132809, 143800.35902572, 121835.25269376,\n",
              "       115362.62424022, 195750.94518798, 178634.86874112, 129730.62507722,\n",
              "       192911.56084663, 131657.45654703, 120820.37087536, 204017.77278542,\n",
              "       138338.9114947 , 225369.63892082, 171268.62434023, 129775.13104949,\n",
              "       196638.99285044, 171349.93326745, 199272.04783511,  97943.32721604,\n",
              "       175722.41999571, 208295.25799675, 130129.51288706, 249081.95544949,\n",
              "       192519.84994714, 118052.59576667, 259595.70902645, 150151.35384487,\n",
              "       118264.44369995, 209968.20236273, 333180.50781153, 106279.34445848,\n",
              "       129130.50704429, 236915.99730642, 121245.73799971, 396585.63553583,\n",
              "       127844.04225973, 126381.94538548, 117616.87247532, 122589.06581806,\n",
              "       408127.7881369 , 142933.05040505, 119082.89270624, 191035.39925391,\n",
              "       120004.75943429, 375271.30564379, 146811.99893701, 228128.55517858,\n",
              "       198690.96447719, 165819.04853691, 136619.59131891, 105674.4979093 ,\n",
              "        73046.43100541, 159767.80761551, 318132.18342167, 306838.02322447,\n",
              "       277269.95220111, 235353.94999184, 112111.61093779, 330254.0934147 ,\n",
              "       114355.70720533, 162234.67608409, 116137.59151623, 131428.43209922,\n",
              "       118673.24712946,  86942.57806373, 447256.86097403, 180275.52126704,\n",
              "       314990.69801439, 303396.90804095, 149656.53167018, 126007.67234147,\n",
              "       104883.68100309,  77169.40358216, 126207.32006508, 102255.227858  ,\n",
              "       163859.01833892, 133559.3872656 , 278526.81334773, 194154.02606774,\n",
              "       139404.58588327, 173075.84498498, 129489.37818235, 156314.68314128,\n",
              "       130068.44403568, 265320.77900663, 115039.89193278, 178970.51336978,\n",
              "       175264.17199122, 162045.72134824, 224258.71393697, 243781.80409666,\n",
              "       167693.68753673, 217744.14700994, 266348.40945191, 137782.29981366,\n",
              "       195152.51700398, 168649.93173361, 143447.19411465, 269325.76033756,\n",
              "       139018.70890148, 182201.58449148,  51533.92167985, 121344.07900014,\n",
              "       135521.03831981, 137599.23721455, 211459.86155878, 117308.6867401 ,\n",
              "       105367.31855596, 109252.54912771, 146824.18964919, 275706.24926462,\n",
              "       145728.62728274, 138733.19291781, 178390.86660131, 195135.44108025,\n",
              "       170708.1300749 , 140214.62406836, 235351.002517  , 117593.83291013,\n",
              "       140827.18998962, 174816.28954737, 192635.54084868, 373483.30344881,\n",
              "       193914.72413693, 139407.70788922,  75052.56435011, 330842.02852495,\n",
              "       379627.65777053, 132065.9969705 , 223745.16786125, 520445.6797151 ,\n",
              "       401849.40044137, 126442.73738257, 178032.18297042, 157221.33711518,\n",
              "       135215.38371266, 118517.83757329, 243025.66837154, 184970.71364602,\n",
              "       133296.65052906,  60400.44059322, 121523.12812663, 142064.00246712,\n",
              "       260276.95103271, 133703.09957296, 100671.51164276, 133380.26837441,\n",
              "       146740.10569185, 149160.36149534,  88969.06900972, 131038.03053274,\n",
              "       198107.48558499, 146828.7380976 , 335221.6159748 , 148809.50328835,\n",
              "       114434.86639303, 115206.83653216, 199468.61762864, 363599.12669415,\n",
              "       468931.66025028, 257535.07270971, 358849.27201649,  92429.09828734,\n",
              "       113367.99577886, 156566.99812222, 355287.34124823, 124850.55085939,\n",
              "       124751.02172377, 207500.93528939, 124977.86289988, 177018.62485856,\n",
              "       171519.27897616,  95107.07288713, 140516.56558232, 135045.20793347,\n",
              "       260623.29048725, 134820.51947844, 285348.60019185, 212611.34320392,\n",
              "       198922.64416389,  84248.71273766, 117078.73853853, 110629.58386783,\n",
              "       132809.87949948, 145063.82531151, 179151.01067224, 174339.74111201,\n",
              "       215894.3116759 ,  95931.47504752, 200837.35232087, 130661.27278862,\n",
              "       233640.37618912, 197295.27030431, 125616.1795714 , 356551.16056172,\n",
              "       189386.4916061 , 137514.96421071, 224686.927833  , 137358.55424177,\n",
              "       150193.29266592, 108256.704941  , 235598.82757398, 135300.81646642,\n",
              "       129897.23960196, 166526.45142804, 199220.31085141, 280009.01397895,\n",
              "       176197.16176662, 146825.74734545, 120050.68817088, 125784.97011158,\n",
              "       145261.63544653, 216470.59061414, 187220.20759686, 101007.54166696,\n",
              "       236319.32868718, 153352.56048437,  94949.69053883, 109563.46184673,\n",
              "       166858.73079102, 101178.41110955, 108191.79047234, 182383.08351758,\n",
              "       122046.49775152, 139510.41849063, 212325.90415983, 153406.50751801,\n",
              "       206883.19197983, 152672.7742082 , 245950.6907526 , 118937.42083986,\n",
              "       115563.10105993, 254935.42291256, 207972.74468062, 461194.64068424,\n",
              "       174646.446225  , 119566.35783869, 147299.503847  , 169196.19559368,\n",
              "       142466.36288761, 103279.64561948, 159500.43767291, 166253.76630955,\n",
              "       139426.66218726, 100084.78901789, 144054.91852916, 138251.30351243,\n",
              "       107686.34649287, 113729.36091838, 177848.33980117, 245993.17761522,\n",
              "       291467.81240472, 165845.89483703, 137253.68345749, 229464.4512383 ,\n",
              "       272457.0341732 , 193371.49922377, 174909.23861655, 140062.96488939,\n",
              "       118241.92978663, 167424.2761865 , 416999.32667485, 200618.74441078,\n",
              "       238236.68422505, 104842.19681847, 101384.70081265, 140961.79607512,\n",
              "       127497.18408588, 288839.180101  , 220521.70669407, 138859.45345639,\n",
              "       204237.29783133, 103394.05033837, 194699.63299956, 110363.341152  ,\n",
              "       330728.21630035, 176889.61575136, 227019.67128927, 112151.72221029,\n",
              "       237806.00544677, 179734.98251539, 134061.87097481, 118807.52731207])"
            ]
          },
          "metadata": {},
          "execution_count": 15
        }
      ]
    },
    {
      "cell_type": "code",
      "source": [],
      "metadata": {
        "id": "l4dACWAidAQd"
      },
      "execution_count": null,
      "outputs": []
    }
  ]
}